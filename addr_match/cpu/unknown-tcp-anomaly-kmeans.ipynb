{
 "cells": [
  {
   "cell_type": "code",
   "execution_count": 1,
   "metadata": {},
   "outputs": [],
   "source": [
    "import pandas as pd"
   ]
  },
  {
   "cell_type": "code",
   "execution_count": 5,
   "metadata": {},
   "outputs": [],
   "source": [
    "df = pd.read_csv(\"tmp3\", header=None, names=[\"bytes\",\"count\"])"
   ]
  },
  {
   "cell_type": "code",
   "execution_count": 6,
   "metadata": {},
   "outputs": [
    {
     "name": "stdout",
     "output_type": "stream",
     "text": [
      "    bytes   count\n",
      "0       9   11592\n",
      "1       6   14300\n",
      "2       7   18200\n",
      "3      14    9100\n",
      "4       5   14040\n",
      "..    ...     ...\n",
      "94     11   44980\n",
      "95      7   15600\n",
      "96     20   16250\n",
      "97      6    7800\n",
      "98     85  242320\n",
      "\n",
      "[99 rows x 2 columns]\n"
     ]
    }
   ],
   "source": [
    "print(df)"
   ]
  },
  {
   "cell_type": "code",
   "execution_count": 7,
   "metadata": {},
   "outputs": [],
   "source": [
    "import matplotlib.pyplot as plt"
   ]
  },
  {
   "cell_type": "code",
   "execution_count": 9,
   "metadata": {},
   "outputs": [
    {
     "data": {
      "text/plain": [
       "<matplotlib.collections.PathCollection at 0x111c79a5400>"
      ]
     },
     "execution_count": 9,
     "metadata": {},
     "output_type": "execute_result"
    },
    {
     "data": {
      "image/png": "[encoded data removed]",
      "text/plain": [
       "<Figure size 432x288 with 1 Axes>"
      ]
     },
     "metadata": {
      "needs_background": "light"
     },
     "output_type": "display_data"
    }
   ],
   "source": [
    "plt.scatter(df[\"bytes\"], df[\"count\"])"
   ]
  },
  {
   "cell_type": "code",
   "execution_count": 45,
   "metadata": {},
   "outputs": [],
   "source": [
    "import numpy as np"
   ]
  },
  {
   "cell_type": "code",
   "execution_count": 214,
   "metadata": {},
   "outputs": [],
   "source": [
    "X1 = np.array(X).reshape(-1, 1)"
   ]
  },
  {
   "cell_type": "code",
   "execution_count": 217,
   "metadata": {},
   "outputs": [
    {
     "name": "stdout",
     "output_type": "stream",
     "text": [
      "[[ 9]\n",
      " [ 6]\n",
      " [ 7]\n",
      " [14]\n",
      " [ 5]\n",
      " [29]\n",
      " [ 9]\n",
      " [ 5]\n",
      " [26]\n",
      " [11]\n",
      " [15]\n",
      " [30]\n",
      " [12]\n",
      " [23]\n",
      " [16]\n",
      " [14]\n",
      " [10]\n",
      " [31]\n",
      " [ 6]\n",
      " [51]\n",
      " [18]\n",
      " [ 5]\n",
      " [ 5]\n",
      " [14]\n",
      " [ 8]\n",
      " [ 4]\n",
      " [ 5]\n",
      " [ 5]\n",
      " [22]\n",
      " [ 5]\n",
      " [ 4]\n",
      " [21]\n",
      " [17]\n",
      " [ 9]\n",
      " [ 7]\n",
      " [ 5]\n",
      " [ 4]\n",
      " [23]\n",
      " [ 5]\n",
      " [ 4]\n",
      " [22]\n",
      " [ 5]\n",
      " [ 5]\n",
      " [35]\n",
      " [11]\n",
      " [12]\n",
      " [ 9]\n",
      " [ 5]\n",
      " [ 4]\n",
      " [14]\n",
      " [ 5]\n",
      " [25]\n",
      " [ 9]\n",
      " [ 9]\n",
      " [ 6]\n",
      " [ 5]\n",
      " [17]\n",
      " [19]\n",
      " [27]\n",
      " [ 4]\n",
      " [ 9]\n",
      " [18]\n",
      " [20]\n",
      " [ 9]\n",
      " [16]\n",
      " [ 8]\n",
      " [12]\n",
      " [10]\n",
      " [14]\n",
      " [14]\n",
      " [13]\n",
      " [12]\n",
      " [ 7]\n",
      " [ 6]\n",
      " [22]\n",
      " [13]\n",
      " [ 4]\n",
      " [ 8]\n",
      " [ 4]\n",
      " [ 4]\n",
      " [11]\n",
      " [17]\n",
      " [11]\n",
      " [ 4]\n",
      " [ 4]\n",
      " [ 9]\n",
      " [ 6]\n",
      " [ 5]\n",
      " [11]\n",
      " [ 4]\n",
      " [ 6]\n",
      " [18]\n",
      " [29]\n",
      " [ 8]\n",
      " [11]\n",
      " [ 7]\n",
      " [20]\n",
      " [ 6]\n",
      " [85]]\n"
     ]
    }
   ],
   "source": [
    "print(X1)"
   ]
  },
  {
   "cell_type": "code",
   "execution_count": 218,
   "metadata": {},
   "outputs": [],
   "source": [
    "Y1 = np.array(Y).reshape(-1, 1)"
   ]
  },
  {
   "cell_type": "code",
   "execution_count": 219,
   "metadata": {},
   "outputs": [
    {
     "name": "stdout",
     "output_type": "stream",
     "text": [
      "[[ 11592]\n",
      " [ 14300]\n",
      " [ 18200]\n",
      " [  9100]\n",
      " [ 14040]\n",
      " [ 29640]\n",
      " [ 12610]\n",
      " [  7410]\n",
      " [ 31200]\n",
      " [ 10920]\n",
      " [ 23140]\n",
      " [ 26260]\n",
      " [ 26780]\n",
      " [ 21970]\n",
      " [ 26780]\n",
      " [ 19500]\n",
      " [ 13260]\n",
      " [ 30030]\n",
      " [ 30680]\n",
      " [ 67860]\n",
      " [ 15600]\n",
      " [ 59500]\n",
      " [ 17850]\n",
      " [322320]\n",
      " [415020]\n",
      " [ 65640]\n",
      " [ 76260]\n",
      " [ 14280]\n",
      " [402600]\n",
      " [ 13320]\n",
      " [141000]\n",
      " [317820]\n",
      " [324420]\n",
      " [428760]\n",
      " [ 95040]\n",
      " [ 76440]\n",
      " [ 14640]\n",
      " [398340]\n",
      " [ 13560]\n",
      " [142320]\n",
      " [312240]\n",
      " [ 22610]\n",
      " [ 59500]\n",
      " [ 27300]\n",
      " [ 23790]\n",
      " [ 28080]\n",
      " [ 14820]\n",
      " [ 19890]\n",
      " [ 11700]\n",
      " [ 18460]\n",
      " [ 17550]\n",
      " [ 25350]\n",
      " [ 37960]\n",
      " [ 19890]\n",
      " [ 11700]\n",
      " [  7150]\n",
      " [ 19890]\n",
      " [ 25740]\n",
      " [ 29770]\n",
      " [  9360]\n",
      " [ 22100]\n",
      " [ 21060]\n",
      " [ 27430]\n",
      " [ 17810]\n",
      " [ 26910]\n",
      " [  8840]\n",
      " [ 21320]\n",
      " [ 19760]\n",
      " [ 32630]\n",
      " [ 24570]\n",
      " [ 30290]\n",
      " [ 28210]\n",
      " [ 32760]\n",
      " [ 13780]\n",
      " [ 69810]\n",
      " [ 39780]\n",
      " [ 11960]\n",
      " [  8840]\n",
      " [ 10530]\n",
      " [ 80730]\n",
      " [ 33020]\n",
      " [ 80990]\n",
      " [ 34580]\n",
      " [ 52260]\n",
      " [ 21710]\n",
      " [ 33150]\n",
      " [ 20930]\n",
      " [ 24830]\n",
      " [ 33280]\n",
      " [ 14170]\n",
      " [ 38870]\n",
      " [ 59800]\n",
      " [ 75010]\n",
      " [ 14170]\n",
      " [ 44980]\n",
      " [ 15600]\n",
      " [ 16250]\n",
      " [  7800]\n",
      " [242320]]\n"
     ]
    }
   ],
   "source": [
    "print(Y1)"
   ]
  },
  {
   "cell_type": "code",
   "execution_count": 241,
   "metadata": {},
   "outputs": [],
   "source": [
    "Z = np.hstack([X1,Y1])"
   ]
  },
  {
   "cell_type": "code",
   "execution_count": 242,
   "metadata": {},
   "outputs": [
    {
     "name": "stdout",
     "output_type": "stream",
     "text": [
      "[[     9  11592]\n",
      " [     6  14300]\n",
      " [     7  18200]\n",
      " [    14   9100]\n",
      " [     5  14040]\n",
      " [    29  29640]\n",
      " [     9  12610]\n",
      " [     5   7410]\n",
      " [    26  31200]\n",
      " [    11  10920]\n",
      " [    15  23140]\n",
      " [    30  26260]\n",
      " [    12  26780]\n",
      " [    23  21970]\n",
      " [    16  26780]\n",
      " [    14  19500]\n",
      " [    10  13260]\n",
      " [    31  30030]\n",
      " [     6  30680]\n",
      " [    51  67860]\n",
      " [    18  15600]\n",
      " [     5  59500]\n",
      " [     5  17850]\n",
      " [    14 322320]\n",
      " [     8 415020]\n",
      " [     4  65640]\n",
      " [     5  76260]\n",
      " [     5  14280]\n",
      " [    22 402600]\n",
      " [     5  13320]\n",
      " [     4 141000]\n",
      " [    21 317820]\n",
      " [    17 324420]\n",
      " [     9 428760]\n",
      " [     7  95040]\n",
      " [     5  76440]\n",
      " [     4  14640]\n",
      " [    23 398340]\n",
      " [     5  13560]\n",
      " [     4 142320]\n",
      " [    22 312240]\n",
      " [     5  22610]\n",
      " [     5  59500]\n",
      " [    35  27300]\n",
      " [    11  23790]\n",
      " [    12  28080]\n",
      " [     9  14820]\n",
      " [     5  19890]\n",
      " [     4  11700]\n",
      " [    14  18460]\n",
      " [     5  17550]\n",
      " [    25  25350]\n",
      " [     9  37960]\n",
      " [     9  19890]\n",
      " [     6  11700]\n",
      " [     5   7150]\n",
      " [    17  19890]\n",
      " [    19  25740]\n",
      " [    27  29770]\n",
      " [     4   9360]\n",
      " [     9  22100]\n",
      " [    18  21060]\n",
      " [    20  27430]\n",
      " [     9  17810]\n",
      " [    16  26910]\n",
      " [     8   8840]\n",
      " [    12  21320]\n",
      " [    10  19760]\n",
      " [    14  32630]\n",
      " [    14  24570]\n",
      " [    13  30290]\n",
      " [    12  28210]\n",
      " [     7  32760]\n",
      " [     6  13780]\n",
      " [    22  69810]\n",
      " [    13  39780]\n",
      " [     4  11960]\n",
      " [     8   8840]\n",
      " [     4  10530]\n",
      " [     4  80730]\n",
      " [    11  33020]\n",
      " [    17  80990]\n",
      " [    11  34580]\n",
      " [     4  52260]\n",
      " [     4  21710]\n",
      " [     9  33150]\n",
      " [     6  20930]\n",
      " [     5  24830]\n",
      " [    11  33280]\n",
      " [     4  14170]\n",
      " [     6  38870]\n",
      " [    18  59800]\n",
      " [    29  75010]\n",
      " [     8  14170]\n",
      " [    11  44980]\n",
      " [     7  15600]\n",
      " [    20  16250]\n",
      " [     6   7800]\n",
      " [    85 242320]]\n"
     ]
    }
   ],
   "source": [
    "print(Z)"
   ]
  },
  {
   "cell_type": "code",
   "execution_count": 277,
   "metadata": {},
   "outputs": [
    {
     "data": {
      "text/plain": [
       "KMeans(n_clusters=1)"
      ]
     },
     "execution_count": 277,
     "metadata": {},
     "output_type": "execute_result"
    }
   ],
   "source": [
    "from sklearn.cluster import KMeans\n",
    "kmeans = KMeans(n_clusters=1)\n",
    "kmeans.fit(Z)"
   ]
  },
  {
   "cell_type": "code",
   "execution_count": 278,
   "metadata": {},
   "outputs": [
    {
     "data": {
      "text/plain": [
       "<matplotlib.legend.Legend at 0x111cb980550>"
      ]
     },
     "execution_count": 278,
     "metadata": {},
     "output_type": "execute_result"
    },
    {
     "data": {
      "image/png": "[encoded data removed]",
      "text/plain": [
       "<Figure size 576x360 with 1 Axes>"
      ]
     },
     "metadata": {
      "needs_background": "light"
     },
     "output_type": "display_data"
    }
   ],
   "source": [
    "import matplotlib.pyplot as plt\n",
    "%matplotlib inline\n",
    "\n",
    "f, ax = plt.subplots(figsize=(8, 5))\n",
    "ax.set_title(\"Blob\")\n",
    "ax.scatter(Z[:, 0], Z[:, 1], label='Points')\n",
    "ax.scatter(kmeans.cluster_centers_[:, 0],kmeans.cluster_centers_[:, 1], label='Centroid',color='r')\n",
    "ax.legend()"
   ]
  },
  {
   "cell_type": "code",
   "execution_count": 285,
   "metadata": {},
   "outputs": [],
   "source": [
    "distances = kmeans.transform(Z)"
   ]
  },
  {
   "cell_type": "code",
   "execution_count": 292,
   "metadata": {},
   "outputs": [],
   "source": [
    "# argsort returns an array of indexes which will sort the array in ascending order\n",
    "# so we reverse it via [::-1] and take the top five with [:2]\n",
    " \n",
    "sorted_idx = np.argsort(distances.ravel())[::-1][:5]"
   ]
  },
  {
   "cell_type": "code",
   "execution_count": 295,
   "metadata": {},
   "outputs": [
    {
     "name": "stdout",
     "output_type": "stream",
     "text": [
      "[33 24 28 37 32 23 31 40 98 39]\n"
     ]
    }
   ],
   "source": [
    "print(sorted_idx)"
   ]
  },
  {
   "cell_type": "code",
   "execution_count": 296,
   "metadata": {},
   "outputs": [
    {
     "name": "stdout",
     "output_type": "stream",
     "text": [
      "[[4.85654951e+04]\n",
      " [4.58574954e+04]\n",
      " [4.19574953e+04]\n",
      " [5.10574950e+04]\n",
      " [4.61174956e+04]\n",
      " [3.05174993e+04]\n",
      " [4.75474951e+04]\n",
      " [5.27474955e+04]\n",
      " [2.89574980e+04]\n",
      " [4.92374950e+04]\n",
      " [3.70174950e+04]\n",
      " [3.38974993e+04]\n",
      " [3.33774950e+04]\n",
      " [3.81874963e+04]\n",
      " [3.33774951e+04]\n",
      " [4.06574950e+04]\n",
      " [4.68974950e+04]\n",
      " [3.01275005e+04]\n",
      " [2.94774957e+04]\n",
      " [7.70260004e+03]\n",
      " [4.45574953e+04]\n",
      " [6.57540593e+02]\n",
      " [4.23074957e+04]\n",
      " [2.62162505e+05]\n",
      " [3.54862505e+05]\n",
      " [5.48251203e+03]\n",
      " [1.61025069e+04]\n",
      " [4.58774956e+04]\n",
      " [3.42442505e+05]\n",
      " [4.68374956e+04]\n",
      " [8.08425055e+04]\n",
      " [2.57662505e+05]\n",
      " [2.64262505e+05]\n",
      " [3.68602505e+05]\n",
      " [3.48825055e+04]\n",
      " [1.62825069e+04]\n",
      " [4.55174958e+04]\n",
      " [3.38182505e+05]\n",
      " [4.65974956e+04]\n",
      " [8.21625055e+04]\n",
      " [2.52082505e+05]\n",
      " [3.75474957e+04]\n",
      " [6.57540593e+02]\n",
      " [3.28575025e+04]\n",
      " [3.63674950e+04]\n",
      " [3.20774950e+04]\n",
      " [4.53374951e+04]\n",
      " [4.02674957e+04]\n",
      " [4.84574957e+04]\n",
      " [4.16974950e+04]\n",
      " [4.26074957e+04]\n",
      " [3.48074971e+04]\n",
      " [2.21974953e+04]\n",
      " [4.02674951e+04]\n",
      " [4.84574954e+04]\n",
      " [5.30074955e+04]\n",
      " [4.02674952e+04]\n",
      " [3.44174955e+04]\n",
      " [3.03874983e+04]\n",
      " [5.07974957e+04]\n",
      " [3.80574951e+04]\n",
      " [3.90974953e+04]\n",
      " [3.27274958e+04]\n",
      " [4.23474951e+04]\n",
      " [3.32474951e+04]\n",
      " [5.13174952e+04]\n",
      " [3.88374950e+04]\n",
      " [4.03974950e+04]\n",
      " [2.75274950e+04]\n",
      " [3.55874950e+04]\n",
      " [2.98674950e+04]\n",
      " [3.19474950e+04]\n",
      " [2.73974956e+04]\n",
      " [4.63774954e+04]\n",
      " [9.65250949e+03]\n",
      " [2.03774950e+04]\n",
      " [4.81974957e+04]\n",
      " [5.13174952e+04]\n",
      " [4.96274957e+04]\n",
      " [2.05725069e+04]\n",
      " [2.71374950e+04]\n",
      " [2.08325055e+04]\n",
      " [2.55774950e+04]\n",
      " [7.89749979e+03]\n",
      " [3.84474959e+04]\n",
      " [2.70074952e+04]\n",
      " [3.92274955e+04]\n",
      " [3.53274958e+04]\n",
      " [2.68774950e+04]\n",
      " [4.59874958e+04]\n",
      " [2.12874960e+04]\n",
      " [3.57533534e+02]\n",
      " [1.48525139e+04]\n",
      " [4.59874952e+04]\n",
      " [1.51774951e+04]\n",
      " [4.45574953e+04]\n",
      " [4.39074955e+04]\n",
      " [5.23574954e+04]\n",
      " [1.82162519e+05]]\n"
     ]
    }
   ],
   "source": [
    "print(distances)"
   ]
  },
  {
   "cell_type": "code",
   "execution_count": 305,
   "metadata": {},
   "outputs": [
    {
     "data": {
      "text/plain": [
       "<matplotlib.legend.Legend at 0x111cbd7bb80>"
      ]
     },
     "execution_count": 305,
     "metadata": {},
     "output_type": "execute_result"
    },
    {
     "data": {
      "image/png": "[encoded data removed]",
      "text/plain": [
       "<Figure size 504x360 with 1 Axes>"
      ]
     },
     "metadata": {
      "needs_background": "light"
     },
     "output_type": "display_data"
    }
   ],
   "source": [
    "f, ax = plt.subplots(figsize=(7, 5))\n",
    "ax.set_title(\"Single Cluster\")\n",
    "ax.scatter(Z[:, 0], Z[:, 1], label='Points')\n",
    "ax.scatter(kmeans.cluster_centers_[:, 0],kmeans.cluster_centers_[:, 1],label='Centroid', color='r')\n",
    "ax.scatter(Z[sorted_idx][:, 0], Z[sorted_idx][:, 1],label='Extreme Value', edgecolors='g',facecolors='none', s=99)\n",
    "ax.set_xlabel('counts')\n",
    "ax.set_ylabel('bytes') \n",
    "ax.legend(loc='best')"
   ]
  },
  {
   "cell_type": "code",
   "execution_count": 306,
   "metadata": {},
   "outputs": [
    {
     "name": "stdout",
     "output_type": "stream",
     "text": [
      "[ 9  8 22 23 17 14 21 22 85  4] [428760 415020 402600 398340 324420 322320 317820 312240 242320 142320]\n"
     ]
    }
   ],
   "source": [
    "print(Z[sorted_idx][:, 0], Z[sorted_idx][:, 1])"
   ]
  },
  {
   "cell_type": "code",
   "execution_count": 288,
   "metadata": {},
   "outputs": [
    {
     "data": {
      "text/plain": [
       "<matplotlib.legend.Legend at 0x111ca53b640>"
      ]
     },
     "execution_count": 288,
     "metadata": {},
     "output_type": "execute_result"
    },
    {
     "data": {
      "image/png": "[encoded data removed]",
      "text/plain": [
       "<Figure size 504x360 with 1 Axes>"
      ]
     },
     "metadata": {
      "needs_background": "light"
     },
     "output_type": "display_data"
    }
   ],
   "source": [
    "new_X = np.delete(Z, sorted_idx, axis=0)\n",
    "new_kmeans = KMeans(n_clusters=1)\n",
    "new_kmeans.fit(new_X)\n",
    "\n",
    "f, ax = plt.subplots(figsize=(7, 5))\n",
    "ax.set_title(\"Extreme Values Removed\")\n",
    "ax.scatter(new_X[:, 0], new_X[:, 1], label='Pruned Points')\n",
    "ax.scatter(kmeans.cluster_centers_[:, 0],kmeans.cluster_centers_[:, 1], label='Old Centroid',color='r',s=80, alpha=.5)\n",
    "ax.scatter(new_kmeans.cluster_centers_[:, 0],new_kmeans.cluster_centers_[:, 1], label='New Centroid',color='m', s=80, alpha=.5)\n",
    "ax.legend(loc='best')"
   ]
  },
  {
   "cell_type": "code",
   "execution_count": 207,
   "metadata": {},
   "outputs": [
    {
     "name": "stdout",
     "output_type": "stream",
     "text": [
      "[[9, 11592], [6, 14300], [7, 18200], [14, 9100], [5, 14040], [29, 29640], [9, 12610], [5, 7410], [26, 31200], [11, 10920], [15, 23140], [30, 26260], [12, 26780], [23, 21970], [16, 26780], [14, 19500], [10, 13260], [31, 30030], [6, 30680], [51, 67860], [18, 15600], [5, 59500], [5, 17850], [14, 322320], [8, 415020], [4, 65640], [5, 76260], [5, 14280], [22, 402600], [5, 13320], [4, 141000], [21, 317820], [17, 324420], [9, 428760], [7, 95040], [5, 76440], [4, 14640], [23, 398340], [5, 13560], [4, 142320], [22, 312240], [5, 22610], [5, 59500], [35, 27300], [11, 23790], [12, 28080], [9, 14820], [5, 19890], [4, 11700], [14, 18460], [5, 17550], [25, 25350], [9, 37960], [9, 19890], [6, 11700], [5, 7150], [17, 19890], [19, 25740], [27, 29770], [4, 9360], [9, 22100], [18, 21060], [20, 27430], [9, 17810], [16, 26910], [8, 8840], [12, 21320], [10, 19760], [14, 32630], [14, 24570], [13, 30290], [12, 28210], [7, 32760], [6, 13780], [22, 69810], [13, 39780], [4, 11960], [8, 8840], [4, 10530], [4, 80730], [11, 33020], [17, 80990], [11, 34580], [4, 52260], [4, 21710], [9, 33150], [6, 20930], [5, 24830], [11, 33280], [4, 14170], [6, 38870], [18, 59800], [29, 75010], [8, 14170], [11, 44980], [7, 15600], [20, 16250], [6, 7800], [85, 242320]]\n"
     ]
    }
   ],
   "source": [
    "print(Z2)"
   ]
  },
  {
   "cell_type": "code",
   "execution_count": null,
   "metadata": {},
   "outputs": [],
   "source": []
  },
  {
   "cell_type": "code",
   "execution_count": null,
   "metadata": {},
   "outputs": [],
   "source": [
    "\n"
   ]
  },
  {
   "cell_type": "code",
   "execution_count": null,
   "metadata": {},
   "outputs": [],
   "source": []
  },
  {
   "cell_type": "code",
   "execution_count": null,
   "metadata": {},
   "outputs": [],
   "source": []
  },
  {
   "cell_type": "code",
   "execution_count": null,
   "metadata": {},
   "outputs": [],
   "source": []
  }
 ],
 "metadata": {
  "kernelspec": {
   "display_name": "Python 3",
   "language": "python",
   "name": "python3"
  },
  "language_info": {
   "codemirror_mode": {
    "name": "ipython",
    "version": 3
   },
   "file_extension": ".py",
   "mimetype": "text/x-python",
   "name": "python",
   "nbconvert_exporter": "python",
   "pygments_lexer": "ipython3",
   "version": "3.8.5"
  }
 },
 "nbformat": 4,
 "nbformat_minor": 4
}
