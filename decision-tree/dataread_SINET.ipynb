{
 "cells": [
  {
   "cell_type": "code",
   "execution_count": 7,
   "metadata": {},
   "outputs": [],
   "source": [
    "import pandas as pd\n",
    "import matplotlib.pyplot as plt\n",
    "import datetime\n",
    "import sys"
   ]
  },
  {
   "cell_type": "code",
   "execution_count": 35,
   "metadata": {},
   "outputs": [
    {
     "name": "stdout",
     "output_type": "stream",
     "text": [
      "0       1615042800\n",
      "1       1615043400\n",
      "2       1615044000\n",
      "3       1615044600\n",
      "4       1615045200\n",
      "           ...    \n",
      "1003    1615644600\n",
      "1004    1615645200\n",
      "1005    1615645800\n",
      "1006    1615646400\n",
      "1007    1615647000\n",
      "Name: date, Length: 1008, dtype: int64\n"
     ]
    }
   ],
   "source": [
    "# dtypes = {'date': 'int', 'count': 'int', 'span': 'int'}\n",
    "data = pd.read_csv('week.csv')\n",
    "X ~ data.date"
   ]
  }
 ],
 "metadata": {
  "kernelspec": {
   "display_name": "Python 3",
   "language": "python",
   "name": "python3"
  },
  "language_info": {
   "codemirror_mode": {
    "name": "ipython",
    "version": 3
   },
   "file_extension": ".py",
   "mimetype": "text/x-python",
   "name": "python",
   "nbconvert_exporter": "python",
   "pygments_lexer": "ipython3",
   "version": "3.8.5"
  }
 },
 "nbformat": 4,
 "nbformat_minor": 4
}
