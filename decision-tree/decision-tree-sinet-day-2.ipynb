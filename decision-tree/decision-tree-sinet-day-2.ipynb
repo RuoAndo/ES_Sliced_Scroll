{
 "cells": [
  {
   "cell_type": "code",
   "execution_count": 173,
   "metadata": {},
   "outputs": [],
   "source": [
    "import pandas as pd\n",
    "import matplotlib.pyplot as plt\n",
    "import datetime\n",
    "import sys"
   ]
  },
  {
   "cell_type": "code",
   "execution_count": 181,
   "metadata": {},
   "outputs": [],
   "source": [
    "df = pd.read_csv(\"day.csv\", header=None, names=[\"date\",\"counts\",\"span\"])"
   ]
  },
  {
   "cell_type": "code",
   "execution_count": 182,
   "metadata": {},
   "outputs": [
    {
     "name": "stdout",
     "output_type": "stream",
     "text": [
      "           date   counts  span\n",
      "0    1616338800  4730187   600\n",
      "1    1616339400  4632337   600\n",
      "2    1616340000  4628585   600\n",
      "3    1616340600  4221196   600\n",
      "4    1616341200  3520816   600\n",
      "..          ...      ...   ...\n",
      "139  1616422200  3552418   600\n",
      "140  1616422800  4071039   600\n",
      "141  1616423400  4961184   600\n",
      "142  1616424000  5120838   600\n",
      "143  1616424600  4274371   600\n",
      "\n",
      "[144 rows x 3 columns]\n"
     ]
    }
   ],
   "source": [
    "print(df)"
   ]
  },
  {
   "cell_type": "code",
   "execution_count": 183,
   "metadata": {},
   "outputs": [],
   "source": [
    "x = df.date\n",
    "y = df.counts\n",
    "\n",
    "z = []\n",
    "counter = 0\n",
    "for i in x:\n",
    "    z.append(counter)\n",
    "    counter = counter + 1"
   ]
  },
  {
   "cell_type": "code",
   "execution_count": 184,
   "metadata": {
    "scrolled": true
   },
   "outputs": [
    {
     "name": "stdout",
     "output_type": "stream",
     "text": [
      "[[  0]\n",
      " [  1]\n",
      " [  2]\n",
      " [  3]\n",
      " [  4]\n",
      " [  5]\n",
      " [  6]\n",
      " [  7]\n",
      " [  8]\n",
      " [  9]\n",
      " [ 10]\n",
      " [ 11]\n",
      " [ 12]\n",
      " [ 13]\n",
      " [ 14]\n",
      " [ 15]\n",
      " [ 16]\n",
      " [ 17]\n",
      " [ 18]\n",
      " [ 19]\n",
      " [ 20]\n",
      " [ 21]\n",
      " [ 22]\n",
      " [ 23]\n",
      " [ 24]\n",
      " [ 25]\n",
      " [ 26]\n",
      " [ 27]\n",
      " [ 28]\n",
      " [ 29]\n",
      " [ 30]\n",
      " [ 31]\n",
      " [ 32]\n",
      " [ 33]\n",
      " [ 34]\n",
      " [ 35]\n",
      " [ 36]\n",
      " [ 37]\n",
      " [ 38]\n",
      " [ 39]\n",
      " [ 40]\n",
      " [ 41]\n",
      " [ 42]\n",
      " [ 43]\n",
      " [ 44]\n",
      " [ 45]\n",
      " [ 46]\n",
      " [ 47]\n",
      " [ 48]\n",
      " [ 49]\n",
      " [ 50]\n",
      " [ 51]\n",
      " [ 52]\n",
      " [ 53]\n",
      " [ 54]\n",
      " [ 55]\n",
      " [ 56]\n",
      " [ 57]\n",
      " [ 58]\n",
      " [ 59]\n",
      " [ 60]\n",
      " [ 61]\n",
      " [ 62]\n",
      " [ 63]\n",
      " [ 64]\n",
      " [ 65]\n",
      " [ 66]\n",
      " [ 67]\n",
      " [ 68]\n",
      " [ 69]\n",
      " [ 70]\n",
      " [ 71]\n",
      " [ 72]\n",
      " [ 73]\n",
      " [ 74]\n",
      " [ 75]\n",
      " [ 76]\n",
      " [ 77]\n",
      " [ 78]\n",
      " [ 79]\n",
      " [ 80]\n",
      " [ 81]\n",
      " [ 82]\n",
      " [ 83]\n",
      " [ 84]\n",
      " [ 85]\n",
      " [ 86]\n",
      " [ 87]\n",
      " [ 88]\n",
      " [ 89]\n",
      " [ 90]\n",
      " [ 91]\n",
      " [ 92]\n",
      " [ 93]\n",
      " [ 94]\n",
      " [ 95]\n",
      " [ 96]\n",
      " [ 97]\n",
      " [ 98]\n",
      " [ 99]\n",
      " [100]\n",
      " [101]\n",
      " [102]\n",
      " [103]\n",
      " [104]\n",
      " [105]\n",
      " [106]\n",
      " [107]\n",
      " [108]\n",
      " [109]\n",
      " [110]\n",
      " [111]\n",
      " [112]\n",
      " [113]\n",
      " [114]\n",
      " [115]\n",
      " [116]\n",
      " [117]\n",
      " [118]\n",
      " [119]\n",
      " [120]\n",
      " [121]\n",
      " [122]\n",
      " [123]\n",
      " [124]\n",
      " [125]\n",
      " [126]\n",
      " [127]\n",
      " [128]\n",
      " [129]\n",
      " [130]\n",
      " [131]\n",
      " [132]\n",
      " [133]\n",
      " [134]\n",
      " [135]\n",
      " [136]\n",
      " [137]\n",
      " [138]\n",
      " [139]\n",
      " [140]\n",
      " [141]\n",
      " [142]\n",
      " [143]]\n"
     ]
    }
   ],
   "source": [
    "print(np.array(z).reshape(-1, 1))"
   ]
  },
  {
   "cell_type": "code",
   "execution_count": 185,
   "metadata": {},
   "outputs": [],
   "source": [
    "w = np.array(z).reshape(-1, 1)"
   ]
  },
  {
   "cell_type": "code",
   "execution_count": 186,
   "metadata": {
    "scrolled": true
   },
   "outputs": [
    {
     "name": "stdout",
     "output_type": "stream",
     "text": [
      "[[1616338800]\n",
      " [1616339400]\n",
      " [1616340000]\n",
      " [1616340600]\n",
      " [1616341200]\n",
      " [1616341800]\n",
      " [1616342400]\n",
      " [1616343000]\n",
      " [1616343600]\n",
      " [1616344200]\n",
      " [1616344800]\n",
      " [1616345400]\n",
      " [1616346000]\n",
      " [1616346600]\n",
      " [1616347200]\n",
      " [1616347800]\n",
      " [1616348400]\n",
      " [1616349000]\n",
      " [1616349600]\n",
      " [1616350200]\n",
      " [1616350800]\n",
      " [1616351400]\n",
      " [1616352000]\n",
      " [1616352600]\n",
      " [1616353200]\n",
      " [1616353800]\n",
      " [1616354400]\n",
      " [1616355000]\n",
      " [1616355600]\n",
      " [1616356200]\n",
      " [1616356800]\n",
      " [1616357400]\n",
      " [1616358000]\n",
      " [1616358600]\n",
      " [1616359200]\n",
      " [1616359800]\n",
      " [1616360400]\n",
      " [1616361000]\n",
      " [1616361600]\n",
      " [1616362200]\n",
      " [1616362800]\n",
      " [1616363400]\n",
      " [1616364000]\n",
      " [1616364600]\n",
      " [1616365200]\n",
      " [1616365800]\n",
      " [1616366400]\n",
      " [1616367000]\n",
      " [1616367600]\n",
      " [1616368200]\n",
      " [1616368800]\n",
      " [1616369400]\n",
      " [1616370000]\n",
      " [1616370600]\n",
      " [1616371200]\n",
      " [1616371800]\n",
      " [1616372400]\n",
      " [1616373000]\n",
      " [1616373600]\n",
      " [1616374200]\n",
      " [1616374800]\n",
      " [1616375400]\n",
      " [1616376000]\n",
      " [1616376600]\n",
      " [1616377200]\n",
      " [1616377800]\n",
      " [1616378400]\n",
      " [1616379000]\n",
      " [1616379600]\n",
      " [1616380200]\n",
      " [1616380800]\n",
      " [1616381400]\n",
      " [1616382000]\n",
      " [1616382600]\n",
      " [1616383200]\n",
      " [1616383800]\n",
      " [1616384400]\n",
      " [1616385000]\n",
      " [1616385600]\n",
      " [1616386200]\n",
      " [1616386800]\n",
      " [1616387400]\n",
      " [1616388000]\n",
      " [1616388600]\n",
      " [1616389200]\n",
      " [1616389800]\n",
      " [1616390400]\n",
      " [1616391000]\n",
      " [1616391600]\n",
      " [1616392200]\n",
      " [1616392800]\n",
      " [1616393400]\n",
      " [1616394000]\n",
      " [1616394600]\n",
      " [1616395200]\n",
      " [1616395800]\n",
      " [1616396400]\n",
      " [1616397000]\n",
      " [1616397600]\n",
      " [1616398200]\n",
      " [1616398800]\n",
      " [1616399400]\n",
      " [1616400000]\n",
      " [1616400600]\n",
      " [1616401200]\n",
      " [1616401800]\n",
      " [1616402400]\n",
      " [1616403000]\n",
      " [1616403600]\n",
      " [1616404200]\n",
      " [1616404800]\n",
      " [1616405400]\n",
      " [1616406000]\n",
      " [1616406600]\n",
      " [1616407200]\n",
      " [1616407800]\n",
      " [1616408400]\n",
      " [1616409000]\n",
      " [1616409600]\n",
      " [1616410200]\n",
      " [1616410800]\n",
      " [1616411400]\n",
      " [1616412000]\n",
      " [1616412600]\n",
      " [1616413200]\n",
      " [1616413800]\n",
      " [1616414400]\n",
      " [1616415000]\n",
      " [1616415600]\n",
      " [1616416200]\n",
      " [1616416800]\n",
      " [1616417400]\n",
      " [1616418000]\n",
      " [1616418600]\n",
      " [1616419200]\n",
      " [1616419800]\n",
      " [1616420400]\n",
      " [1616421000]\n",
      " [1616421600]\n",
      " [1616422200]\n",
      " [1616422800]\n",
      " [1616423400]\n",
      " [1616424000]\n",
      " [1616424600]]\n"
     ]
    }
   ],
   "source": [
    "print(np.array(df[\"date\"].tolist()).reshape(-1, 1))"
   ]
  },
  {
   "cell_type": "code",
   "execution_count": 187,
   "metadata": {},
   "outputs": [],
   "source": [
    "x = np.array(df[\"date\"].tolist()).reshape(-1, 1)"
   ]
  },
  {
   "cell_type": "code",
   "execution_count": 188,
   "metadata": {},
   "outputs": [
    {
     "name": "stdout",
     "output_type": "stream",
     "text": [
      "[[  0]\n",
      " [  1]\n",
      " [  2]\n",
      " [  3]\n",
      " [  4]\n",
      " [  5]\n",
      " [  6]\n",
      " [  7]\n",
      " [  8]\n",
      " [  9]\n",
      " [ 10]\n",
      " [ 11]\n",
      " [ 12]\n",
      " [ 13]\n",
      " [ 14]\n",
      " [ 15]\n",
      " [ 16]\n",
      " [ 17]\n",
      " [ 18]\n",
      " [ 19]\n",
      " [ 20]\n",
      " [ 21]\n",
      " [ 22]\n",
      " [ 23]\n",
      " [ 24]\n",
      " [ 25]\n",
      " [ 26]\n",
      " [ 27]\n",
      " [ 28]\n",
      " [ 29]\n",
      " [ 30]\n",
      " [ 31]\n",
      " [ 32]\n",
      " [ 33]\n",
      " [ 34]\n",
      " [ 35]\n",
      " [ 36]\n",
      " [ 37]\n",
      " [ 38]\n",
      " [ 39]\n",
      " [ 40]\n",
      " [ 41]\n",
      " [ 42]\n",
      " [ 43]\n",
      " [ 44]\n",
      " [ 45]\n",
      " [ 46]\n",
      " [ 47]\n",
      " [ 48]\n",
      " [ 49]\n",
      " [ 50]\n",
      " [ 51]\n",
      " [ 52]\n",
      " [ 53]\n",
      " [ 54]\n",
      " [ 55]\n",
      " [ 56]\n",
      " [ 57]\n",
      " [ 58]\n",
      " [ 59]\n",
      " [ 60]\n",
      " [ 61]\n",
      " [ 62]\n",
      " [ 63]\n",
      " [ 64]\n",
      " [ 65]\n",
      " [ 66]\n",
      " [ 67]\n",
      " [ 68]\n",
      " [ 69]\n",
      " [ 70]\n",
      " [ 71]\n",
      " [ 72]\n",
      " [ 73]\n",
      " [ 74]\n",
      " [ 75]\n",
      " [ 76]\n",
      " [ 77]\n",
      " [ 78]\n",
      " [ 79]\n",
      " [ 80]\n",
      " [ 81]\n",
      " [ 82]\n",
      " [ 83]\n",
      " [ 84]\n",
      " [ 85]\n",
      " [ 86]\n",
      " [ 87]\n",
      " [ 88]\n",
      " [ 89]\n",
      " [ 90]\n",
      " [ 91]\n",
      " [ 92]\n",
      " [ 93]\n",
      " [ 94]\n",
      " [ 95]\n",
      " [ 96]\n",
      " [ 97]\n",
      " [ 98]\n",
      " [ 99]\n",
      " [100]\n",
      " [101]\n",
      " [102]\n",
      " [103]\n",
      " [104]\n",
      " [105]\n",
      " [106]\n",
      " [107]\n",
      " [108]\n",
      " [109]\n",
      " [110]\n",
      " [111]\n",
      " [112]\n",
      " [113]\n",
      " [114]\n",
      " [115]\n",
      " [116]\n",
      " [117]\n",
      " [118]\n",
      " [119]\n",
      " [120]\n",
      " [121]\n",
      " [122]\n",
      " [123]\n",
      " [124]\n",
      " [125]\n",
      " [126]\n",
      " [127]\n",
      " [128]\n",
      " [129]\n",
      " [130]\n",
      " [131]\n",
      " [132]\n",
      " [133]\n",
      " [134]\n",
      " [135]\n",
      " [136]\n",
      " [137]\n",
      " [138]\n",
      " [139]\n",
      " [140]\n",
      " [141]\n",
      " [142]\n",
      " [143]]\n"
     ]
    }
   ],
   "source": [
    "print(w)"
   ]
  },
  {
   "cell_type": "code",
   "execution_count": 189,
   "metadata": {},
   "outputs": [],
   "source": [
    "y = np.array(df[\"counts\"].tolist()).reshape(-1, 1)"
   ]
  },
  {
   "cell_type": "code",
   "execution_count": 190,
   "metadata": {},
   "outputs": [
    {
     "data": {
      "text/plain": [
       "<matplotlib.collections.PathCollection at 0x16c5911ffa0>"
      ]
     },
     "execution_count": 190,
     "metadata": {},
     "output_type": "execute_result"
    },
    {
     "data": {
      "image/png": "[encoded data removed]",
      "text/plain": [
       "<Figure size 432x288 with 1 Axes>"
      ]
     },
     "metadata": {
      "needs_background": "light"
     },
     "output_type": "display_data"
    }
   ],
   "source": [
    "plt.scatter(w, y, s=20, edgecolor=\"black\",\n",
    "            c=\"darkorange\", label=\"data\")"
   ]
  },
  {
   "cell_type": "code",
   "execution_count": 191,
   "metadata": {},
   "outputs": [],
   "source": [
    "import numpy as np\n",
    "from sklearn.tree import DecisionTreeRegressor\n",
    "import matplotlib.pyplot as plt"
   ]
  },
  {
   "cell_type": "code",
   "execution_count": 192,
   "metadata": {},
   "outputs": [
    {
     "data": {
      "text/plain": [
       "DecisionTreeRegressor(max_depth=5)"
      ]
     },
     "execution_count": 192,
     "metadata": {},
     "output_type": "execute_result"
    }
   ],
   "source": [
    "regr_1 = DecisionTreeRegressor(max_depth=2)\n",
    "regr_2 = DecisionTreeRegressor(max_depth=5)\n",
    "regr_1.fit(w, y)\n",
    "regr_2.fit(w, y)"
   ]
  },
  {
   "cell_type": "code",
   "execution_count": 193,
   "metadata": {},
   "outputs": [
    {
     "name": "stdout",
     "output_type": "stream",
     "text": [
      "DecisionTreeRegressor(max_depth=2)\n"
     ]
    }
   ],
   "source": [
    "print(regr_1)"
   ]
  },
  {
   "cell_type": "code",
   "execution_count": 197,
   "metadata": {},
   "outputs": [],
   "source": [
    "# Predict\n",
    "X_test = np.arange(0.0, 140, 1)[:, np.newaxis]\n",
    "y_1 = regr_1.predict(X_test)\n",
    "y_2 = regr_2.predict(X_test)"
   ]
  },
  {
   "cell_type": "code",
   "execution_count": 198,
   "metadata": {
    "scrolled": true
   },
   "outputs": [
    {
     "name": "stdout",
     "output_type": "stream",
     "text": [
      "[4730187.         4630461.         4630461.         4221196.\n",
      " 3548386.2        3548386.2        3548386.2        3548386.2\n",
      " 3548386.2        3548386.2        3548386.2        3548386.2\n",
      " 3548386.2        3548386.2        3548386.2        3548386.2\n",
      " 3548386.2        3548386.2        3548386.2        3927026.9\n",
      " 3927026.9        3927026.9        3927026.9        3927026.9\n",
      " 3927026.9        3927026.9        3927026.9        3927026.9\n",
      " 3927026.9        3234031.         3234031.         3234031.\n",
      " 3545316.         4335461.71428571 4335461.71428571 4335461.71428571\n",
      " 4335461.71428571 4335461.71428571 4335461.71428571 4335461.71428571\n",
      " 4146021.         3547549.         3547549.         4401050.\n",
      " 5159119.         4381255.         5425601.         5425601.\n",
      " 4873488.         4873488.         5654241.33333333 5654241.33333333\n",
      " 5654241.33333333 6082055.33333333 6082055.33333333 6082055.33333333\n",
      " 7646882.         7646882.         7646882.         6962797.08888889\n",
      " 6962797.08888889 6962797.08888889 6962797.08888889 6962797.08888889\n",
      " 6962797.08888889 6962797.08888889 6962797.08888889 6962797.08888889\n",
      " 6962797.08888889 6962797.08888889 6962797.08888889 6962797.08888889\n",
      " 6962797.08888889 6962797.08888889 6962797.08888889 6962797.08888889\n",
      " 6962797.08888889 6962797.08888889 6962797.08888889 6962797.08888889\n",
      " 6962797.08888889 6962797.08888889 6962797.08888889 6962797.08888889\n",
      " 6962797.08888889 6962797.08888889 6962797.08888889 6962797.08888889\n",
      " 6962797.08888889 6962797.08888889 6962797.08888889 6962797.08888889\n",
      " 6962797.08888889 6962797.08888889 6962797.08888889 6962797.08888889\n",
      " 6962797.08888889 6962797.08888889 6962797.08888889 6962797.08888889\n",
      " 6962797.08888889 6962797.08888889 6962797.08888889 6962797.08888889\n",
      " 6320361.8        6320361.8        6320361.8        6320361.8\n",
      " 6320361.8        5737260.33333333 5737260.33333333 5737260.33333333\n",
      " 5424523.         5424523.         4840950.6        4840950.6\n",
      " 4840950.6        4840950.6        4840950.6        5623304.\n",
      " 5623304.         5623304.         4948057.5        4948057.5\n",
      " 4159365.75       4159365.75       4159365.75       4159365.75\n",
      " 4159365.75       4159365.75       4159365.75       4159365.75\n",
      " 4159365.75       4159365.75       4159365.75       4159365.75\n",
      " 3785848.2        3785848.2        3785848.2        3785848.2       ]\n"
     ]
    }
   ],
   "source": [
    "print(y_2)"
   ]
  },
  {
   "cell_type": "code",
   "execution_count": 196,
   "metadata": {},
   "outputs": [
    {
     "data": {
      "text/plain": [
       "[<matplotlib.lines.Line2D at 0x16c5913af40>]"
      ]
     },
     "execution_count": 196,
     "metadata": {},
     "output_type": "execute_result"
    },
    {
     "data": {
      "image/png": "[encoded data removed]",
      "text/plain": [
       "<Figure size 432x288 with 1 Axes>"
      ]
     },
     "metadata": {
      "needs_background": "light"
     },
     "output_type": "display_data"
    }
   ],
   "source": [
    "plt.plot(X_test,y_2)"
   ]
  },
  {
   "cell_type": "code",
   "execution_count": 199,
   "metadata": {},
   "outputs": [
    {
     "data": {
      "image/png": "[encoded data removed]",
      "text/plain": [
       "<Figure size 432x288 with 1 Axes>"
      ]
     },
     "metadata": {
      "needs_background": "light"
     },
     "output_type": "display_data"
    }
   ],
   "source": [
    "# Plot the results\n",
    "plt.figure()\n",
    "plt.scatter(w, y, s=20, edgecolor=\"black\",\n",
    "            c=\"darkorange\", label=\"data\")\n",
    "plt.plot(X_test, y_1, color=\"cornflowerblue\",label=\"max_depth=2\", linewidth=2)\n",
    "plt.plot(X_test, y_2, color=\"yellowgreen\", label=\"max_depth=5\", linewidth=2)\n",
    "plt.xlabel(\"data\")\n",
    "plt.ylabel(\"target\")\n",
    "plt.title(\"Decision Tree Regression\")\n",
    "plt.legend()\n",
    "plt.show()"
   ]
  },
  {
   "cell_type": "code",
   "execution_count": 200,
   "metadata": {},
   "outputs": [],
   "source": [
    "from sklearn import tree\n",
    "from six import StringIO\n",
    "import pydot\n",
    "from IPython.display import Image"
   ]
  },
  {
   "cell_type": "code",
   "execution_count": 203,
   "metadata": {},
   "outputs": [],
   "source": [
    "dot_iris = StringIO()\n",
    "tree.export_graphviz(regr_1, out_file=dot_iris)"
   ]
  },
  {
   "cell_type": "code",
   "execution_count": 204,
   "metadata": {},
   "outputs": [],
   "source": [
    "import pydotplus"
   ]
  },
  {
   "cell_type": "code",
   "execution_count": 205,
   "metadata": {},
   "outputs": [],
   "source": [
    "graph = pydotplus.graphviz.graph_from_dot_data(dot_iris.getvalue())"
   ]
  },
  {
   "cell_type": "code",
   "execution_count": 206,
   "metadata": {},
   "outputs": [],
   "source": [
    "graph.progs = {'dot': u\"C:\\\\Program Files\\\\Graphviz\\\\bin\\\\dot.exe\"}"
   ]
  },
  {
   "cell_type": "code",
   "execution_count": 207,
   "metadata": {},
   "outputs": [
    {
     "data": {
      "image/png": "[encoded data removed]",
      "text/plain": [
       "<IPython.core.display.Image object>"
      ]
     },
     "execution_count": 207,
     "metadata": {},
     "output_type": "execute_result"
    }
   ],
   "source": [
    "Image(graph.create_png())"
   ]
  }
 ],
 "metadata": {
  "kernelspec": {
   "display_name": "Python 3",
   "language": "python",
   "name": "python3"
  },
  "language_info": {
   "codemirror_mode": {
    "name": "ipython",
    "version": 3
   },
   "file_extension": ".py",
   "mimetype": "text/x-python",
   "name": "python",
   "nbconvert_exporter": "python",
   "pygments_lexer": "ipython3",
   "version": "3.8.5"
  }
 },
 "nbformat": 4,
 "nbformat_minor": 4
}
